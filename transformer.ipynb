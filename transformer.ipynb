{
 "cells": [
  {
   "cell_type": "markdown",
   "metadata": {},
   "source": [
    "# Transformer Architecture with Keras"
   ]
  },
  {
   "cell_type": "code",
   "execution_count": 6,
   "metadata": {},
   "outputs": [],
   "source": [
    "import numpy as np\n",
    "\n",
    "import keras.backend as K\n",
    "\n",
    "from keras.preprocessing.text import Tokenizer\n",
    "from keras.preprocessing.sequence import pad_sequences\n",
    "#-------------------------------------------------------------------------------"
   ]
  },
  {
   "cell_type": "code",
   "execution_count": 2,
   "metadata": {},
   "outputs": [],
   "source": [
    "#-------------------------------------------------------------------------------\n",
    "def softmax_over_time(x):\n",
    "    \"\"\"\n",
    "    Implements a softmax operation over the temporal axis for normalizing \n",
    "    attention weights into a probability distribution\n",
    "    \n",
    "    Input(s)\n",
    "    - x (tensor): [batch_size, time_steps, 1]\n",
    "    \"\"\"\n",
    "    e = K.exp(x - K.max(x, axis=1, keepdims=True))\n",
    "    s = K.sum(e, axis=1, keepdims=True)\n",
    "    \n",
    "    return e / s\n",
    "#-------------------------------------------------------------------------------"
   ]
  },
  {
   "cell_type": "code",
   "execution_count": 3,
   "metadata": {},
   "outputs": [],
   "source": [
    "# Configurations\n",
    "BATCH_SIZE = 64\n",
    "EPOCHS = 20\n",
    "LATENT_DIM = 256\n",
    "LATENT_DIM_DECODER = 256\n",
    "NUM_SAMPLES = 10000\n",
    "MAX_SEQUENCE_LENGTH = 100\n",
    "MAX_NUM_WORDS = 20000\n",
    "EMBEDDING_DIM = 100"
   ]
  },
  {
   "cell_type": "markdown",
   "metadata": {},
   "source": [
    "## Load Data"
   ]
  },
  {
   "cell_type": "code",
   "execution_count": 4,
   "metadata": {},
   "outputs": [],
   "source": [
    "input_texts = [] # Sentence in original language\n",
    "target_texts = [] # Sentence in translated language\n",
    "target_texts_inputs = [] # Sentence (translated) with <SOS> tag"
   ]
  },
  {
   "cell_type": "code",
   "execution_count": 5,
   "metadata": {},
   "outputs": [
    {
     "name": "stdout",
     "output_type": "stream",
     "text": [
      "Num samples: 10000\n"
     ]
    }
   ],
   "source": [
    "raw_text_path = 'D:/Data/translations/spa-eng/spa.txt'\n",
    "\n",
    "with open(raw_text_path, encoding='latin1') as f:\n",
    "    for i, l in enumerate(f.readlines()):\n",
    "        if i == NUM_SAMPLES:\n",
    "            break\n",
    "        \n",
    "        # If line doesn't contain delimiting char\n",
    "        if '\\t' not in l:\n",
    "            continue\n",
    "        \n",
    "        input_text, translation = l.split('\\t')\n",
    "        \n",
    "        input_texts.append(input_text)\n",
    "        target_texts.append(translation + ' <eos>')\n",
    "        target_texts_inputs.append('<sos>' + translation)\n",
    "    \n",
    "print('Num samples:', len(input_texts))"
   ]
  },
  {
   "cell_type": "markdown",
   "metadata": {},
   "source": [
    "## Preprocess Data"
   ]
  },
  {
   "cell_type": "code",
   "execution_count": null,
   "metadata": {},
   "outputs": [],
   "source": [
    "# Tokenize\n",
    "tokenizer_inputs = Tokenizer(num_words=MAX_NUM_WORDS)\n",
    "tokenizer_inputs.fit_on_texts(input_texts)\n",
    "input_sequences = tokenizer_inputs.texts_to_sequences(input_texts)\n",
    "\n",
    "tokenizer_outputs = Tokenizer(num_words=MAX_NUM_WORDS, filters='') # Don't filter out punctuations\n",
    "tokenizer_outputs.fit_on_texts()"
   ]
  }
 ],
 "metadata": {
  "kernelspec": {
   "display_name": "Python 3",
   "language": "python",
   "name": "python3"
  },
  "language_info": {
   "codemirror_mode": {
    "name": "ipython",
    "version": 3
   },
   "file_extension": ".py",
   "mimetype": "text/x-python",
   "name": "python",
   "nbconvert_exporter": "python",
   "pygments_lexer": "ipython3",
   "version": "3.6.8"
  }
 },
 "nbformat": 4,
 "nbformat_minor": 2
}
